{
 "cells": [
  {
   "cell_type": "code",
   "execution_count": 1,
   "id": "8a955ce7",
   "metadata": {},
   "outputs": [],
   "source": [
    "import keras\n",
    "from keras.datasets import mnist\n",
    "from keras.utils import to_categorical\n",
    "from keras.layers import Dense, Input, LSTM, GRU, SimpleRNN\n",
    "from keras.optimizers import RMSprop\n",
    "# from keras.engine import Model\n",
    "from keras.models import Model\n",
    "from keras.callbacks import ModelCheckpoint\n",
    "from keras.layers import Bidirectional"
   ]
  },
  {
   "cell_type": "code",
   "execution_count": 2,
   "id": "322d3f75",
   "metadata": {},
   "outputs": [],
   "source": [
    "import numpy as np\n",
    "import matplotlib.pyplot as plt"
   ]
  },
  {
   "cell_type": "code",
   "execution_count": 3,
   "id": "d988e4c8",
   "metadata": {},
   "outputs": [],
   "source": [
    "def rnn_classif_network(T, D):\n",
    "    inputs = Input(name='input', shape=[T, D])\n",
    "    layer = SimpleRNN(50, return_sequences=False)(inputs)\n",
    "    predictions = Dense(10, activation='softmax')(layer)\n",
    "    network = Model(inputs=inputs, outputs=predictions)\n",
    "    network.compile(optimizer='rmsprop', loss='categorical_crossentropy', metrics=['accuracy'])\n",
    "    return network"
   ]
  },
  {
   "cell_type": "markdown",
   "id": "3cfceed0",
   "metadata": {},
   "source": [
    "### 1. Completez le code suivant"
   ]
  },
  {
   "cell_type": "code",
   "execution_count": 5,
   "id": "d6d6c08a",
   "metadata": {},
   "outputs": [
    {
     "name": "stdout",
     "output_type": "stream",
     "text": [
      "(60000, 28, 28)\n"
     ]
    },
    {
     "data": {
      "image/png": "[encoded data removed]",
      "text/plain": [
       "<Figure size 432x288 with 1 Axes>"
      ]
     },
     "metadata": {
      "needs_background": "light"
     },
     "output_type": "display_data"
    },
    {
     "name": "stdout",
     "output_type": "stream",
     "text": [
      "Epoch 1/3\n",
      "625/625 [==============================] - 4s 5ms/step - loss: 1.6107 - accuracy: 0.4302 - val_loss: 1.3775 - val_accuracy: 0.4780\n",
      "Epoch 2/3\n",
      "625/625 [==============================] - 3s 4ms/step - loss: 1.3834 - accuracy: 0.4861 - val_loss: 1.3054 - val_accuracy: 0.5020\n",
      "Epoch 3/3\n",
      "625/625 [==============================] - 3s 4ms/step - loss: 1.3474 - accuracy: 0.4983 - val_loss: 1.2815 - val_accuracy: 0.5020\n"
     ]
    },
    {
     "data": {
      "image/png": "[encoded data removed]",
      "text/plain": [
       "<Figure size 432x288 with 1 Axes>"
      ]
     },
     "metadata": {
      "needs_background": "light"
     },
     "output_type": "display_data"
    },
    {
     "name": "stdout",
     "output_type": "stream",
     "text": [
      "313/313 [==============================] - 1s 3ms/step - loss: 1.3520 - accuracy: 0.4995\n",
      "\n",
      "TEST LOSS AND ACCURACY =  [1.3520275354385376, 0.49950000643730164]\n"
     ]
    }
   ],
   "source": [
    "if __name__ == '__main__':\n",
    "    # x are of dimension nb_data 28 x 28 which is the size of each image\n",
    "    (x_train, y_train), (x_test, y_test) = mnist.load_data()\n",
    "    print(x_train.shape)\n",
    "    # exemple pour visualiser la 11 ème image\n",
    "    plt.imshow(x_train[11,:,:], cmap='gray')\n",
    "    plt.show()\n",
    "\n",
    "    nb_classes = 10\n",
    "    nb_train, T, D = x_train.shape\n",
    "    nb_test, T, D = x_test.shape\n",
    "    \n",
    "    # on réserve une base de valid\n",
    "    FIN_APP = 20000\n",
    "    DEBUT_VALID = 59000\n",
    "    x_valid = x_train[DEBUT_VALID:,:,:]\n",
    "    y_valid = y_train[DEBUT_VALID:]\n",
    "    x_train = x_train[:FIN_APP,:,:] \n",
    "    y_train = y_train[:FIN_APP]\n",
    "    ###########################################################################\n",
    "    # passage en encodage one-hot vector\n",
    "    y_train = to_categorical(y_train, nb_classes)\n",
    "    y_test = to_categorical(y_test, nb_classes)\n",
    "    y_valid = to_categorical(y_valid, nb_classes)\n",
    "    ###########################################################################\n",
    "    # Déclaration et compilation du réseau recurrent\n",
    "    le_reseau = rnn_classif_network(T, D)\n",
    "    ###########################################################################\n",
    "    # Apprentissage du réseau avec batch de None\n",
    "    # Base de validation testee à la fin de chaque époque\n",
    "    # nb_epch = 3 pour le moment\n",
    "    # la méthode renvoie l'historique de l'apprentissage\n",
    "    Enregistrement = le_reseau.fit(x_train, y_train, batch_size=32, epochs=3, validation_data=(x_valid, y_valid))\n",
    "\n",
    "    ###########################################################################\n",
    "    # On visualise l'historique de l'apprentissage\n",
    "    loss_train = Enregistrement.history['loss']\n",
    "    loss_valid = Enregistrement.history['val_loss']\n",
    "    metric_train = Enregistrement.history['accuracy']\n",
    "    metric_valid = Enregistrement.history['val_accuracy']\n",
    "    plt.plot(loss_train,\"b:o\", label = \"loss_train\")\n",
    "    plt.plot(loss_valid,\"r:o\", label = \"loss_valid\")\n",
    "    plt.title(\"Loss over training epochs\")\n",
    "    plt.legend()\n",
    "    plt.show()\n",
    "\n",
    "    ############################################################################\n",
    "    #on teste les performances du réseau entrainé\n",
    "    loss_test = le_reseau.evaluate(x_test, y_test)\n",
    "    print(\"\\nTEST LOSS AND ACCURACY = \", loss_test)\n"
   ]
  },
  {
   "cell_type": "markdown",
   "id": "6fdb6d34",
   "metadata": {},
   "source": [
    "### 2. En vous inspirant du réseau de la première question,  completez la fonction rnn_classif_network et completez le code suivant :"
   ]
  },
  {
   "cell_type": "code",
   "execution_count": 7,
   "id": "4f2371ca",
   "metadata": {},
   "outputs": [],
   "source": [
    "def rnn_classif_network(T, D, couche, type_):   \n",
    "    inputs = Input(name='input', shape=[T, D])\n",
    "    layer = couche(50, return_sequences=False)(inputs)\n",
    "    predictions = Dense(10, activation='softmax')(layer)\n",
    "    network = Model(inputs=inputs, outputs=predictions)\n",
    "    network.compile(optimizer='rmsprop', loss='categorical_crossentropy', metrics=['accuracy'])\n",
    "    return network"
   ]
  },
  {
   "cell_type": "code",
   "execution_count": 8,
   "id": "2945349f",
   "metadata": {},
   "outputs": [
    {
     "name": "stdout",
     "output_type": "stream",
     "text": [
      "(60000, 28, 28)\n"
     ]
    },
    {
     "data": {
      "image/png": "[encoded data removed]",
      "text/plain": [
       "<Figure size 432x288 with 1 Axes>"
      ]
     },
     "metadata": {
      "needs_background": "light"
     },
     "output_type": "display_data"
    },
    {
     "name": "stdout",
     "output_type": "stream",
     "text": [
      "Epoch 1/10\n",
      "625/625 [==============================] - 8s 10ms/step - loss: 1.1985 - accuracy: 0.6030 - val_loss: 0.6418 - val_accuracy: 0.7920\n",
      "Epoch 2/10\n",
      "625/625 [==============================] - 5s 9ms/step - loss: 0.6319 - accuracy: 0.7879 - val_loss: 0.5010 - val_accuracy: 0.8440\n",
      "Epoch 3/10\n",
      "625/625 [==============================] - 5s 8ms/step - loss: 0.5154 - accuracy: 0.8266 - val_loss: 0.4607 - val_accuracy: 0.8510\n",
      "Epoch 4/10\n",
      "625/625 [==============================] - 5s 9ms/step - loss: 0.4651 - accuracy: 0.8439 - val_loss: 0.4342 - val_accuracy: 0.8790\n",
      "Epoch 5/10\n",
      "625/625 [==============================] - 5s 9ms/step - loss: 0.4261 - accuracy: 0.8577 - val_loss: 0.4034 - val_accuracy: 0.8760\n",
      "Epoch 6/10\n",
      "625/625 [==============================] - 5s 9ms/step - loss: 0.3964 - accuracy: 0.8652 - val_loss: 0.3897 - val_accuracy: 0.8720\n",
      "Epoch 7/10\n",
      "625/625 [==============================] - 5s 9ms/step - loss: 0.3711 - accuracy: 0.8748 - val_loss: 0.4015 - val_accuracy: 0.8730\n",
      "Epoch 8/10\n",
      "625/625 [==============================] - 5s 8ms/step - loss: 0.3545 - accuracy: 0.8801 - val_loss: 0.3643 - val_accuracy: 0.8910\n",
      "Epoch 9/10\n",
      "625/625 [==============================] - 5s 9ms/step - loss: 0.3342 - accuracy: 0.8871 - val_loss: 0.3624 - val_accuracy: 0.8840\n",
      "Epoch 10/10\n",
      "625/625 [==============================] - 5s 9ms/step - loss: 0.3174 - accuracy: 0.8943 - val_loss: 0.3762 - val_accuracy: 0.8850\n"
     ]
    },
    {
     "data": {
      "image/png": "[encoded data removed]",
      "text/plain": [
       "<Figure size 432x288 with 1 Axes>"
      ]
     },
     "metadata": {
      "needs_background": "light"
     },
     "output_type": "display_data"
    },
    {
     "name": "stdout",
     "output_type": "stream",
     "text": [
      "313/313 [==============================] - 1s 4ms/step - loss: 0.3765 - accuracy: 0.8752\n",
      "\n",
      "TEST LOSS AND ACCURACY =  [0.3764668405056, 0.8751999735832214]\n"
     ]
    }
   ],
   "source": [
    "if __name__ == '__main__':\n",
    "    # x are of dimension nb_data 28 x 28 which is the size of each image\n",
    "    (x_train, y_train), (x_test, y_test) = mnist.load_data()\n",
    "    print(x_train.shape)\n",
    "    # exemple pour visualiser la 11 ème image\n",
    "    plt.imshow(x_train[11,:,:], cmap='gray')\n",
    "    plt.show()\n",
    "\n",
    "    nb_classes = 10\n",
    "    nb_train, T, D = x_train.shape\n",
    "    nb_test, T, D = x_test.shape\n",
    "    # on réserve une base de valid\n",
    "    FIN_APP = 20000\n",
    "    DEBUT_VALID = 59000\n",
    "    x_valid = x_train[DEBUT_VALID:,:,:]\n",
    "    y_valid = y_train[DEBUT_VALID:]\n",
    "    x_train = x_train[:FIN_APP,:,:]\n",
    "    y_train = y_train[:FIN_APP]\n",
    "    ###########################################################################\n",
    "    # passage en encodage one-hot vector\n",
    "    y_train = to_categorical(y_train, nb_classes)\n",
    "    y_test = to_categorical(y_test, nb_classes)\n",
    "    y_valid = to_categorical(y_valid, nb_classes)\n",
    "    ###########################################################################\n",
    "    # Déclaration et compilation du réseau recurrent : utilisez un LSTM\n",
    "    le_reseau = rnn_classif_network(T, D, LSTM, \"LSTM\")\n",
    "    ###########################################################################\n",
    "    # Apprentissage du réseau avec batch de 10\n",
    "    # Base de validation testee à la fin de chaque époque\n",
    "    # nb_epch = 10 pour le moment\n",
    "    # la méthode renvoie l'historique de l'apprentissage\n",
    "    Enregistrement = le_reseau.fit(x_train, y_train, batch_size=32, epochs=10, validation_data=(x_valid, y_valid))\n",
    "\n",
    "    ###########################################################################\n",
    "    # On visualise l'historique de l'apprentissage\n",
    "    loss_train = Enregistrement.history['loss']\n",
    "    loss_valid = Enregistrement.history['val_loss']\n",
    "    metric_train = Enregistrement.history['accuracy']\n",
    "    metric_valid = Enregistrement.history['val_accuracy']\n",
    "    plt.plot(loss_train,\"b:o\", label = \"loss_train\")\n",
    "    plt.plot(loss_valid,\"r:o\", label = \"loss_valid\")\n",
    "    plt.title(\"Loss over training epochs\")\n",
    "    plt.legend()\n",
    "    plt.show()\n",
    "\n",
    "    ############################################################################\n",
    "    #on teste les performances du réseau entrainé\n",
    "    loss_test = le_reseau.evaluate(x_test, y_test)\n",
    "    print(\"\\nTEST LOSS AND ACCURACY = \", loss_test)"
   ]
  },
  {
   "cell_type": "markdown",
   "id": "d7fe9c69",
   "metadata": {},
   "source": [
    "# Meilleur modèle"
   ]
  },
  {
   "cell_type": "code",
   "execution_count": 9,
   "id": "f0f19d1d",
   "metadata": {},
   "outputs": [
    {
     "name": "stdout",
     "output_type": "stream",
     "text": [
      "\n",
      "Epoch 1: val_loss improved from inf to 0.65407, saving model to best.h5\n",
      "\n",
      "Epoch 2: val_loss improved from 0.65407 to 0.52615, saving model to best.h5\n",
      "\n",
      "Epoch 3: val_loss improved from 0.52615 to 0.51672, saving model to best.h5\n",
      "\n",
      "Epoch 4: val_loss improved from 0.51672 to 0.43296, saving model to best.h5\n",
      "\n",
      "Epoch 5: val_loss improved from 0.43296 to 0.41568, saving model to best.h5\n",
      "\n",
      "Epoch 6: val_loss did not improve from 0.41568\n",
      "\n",
      "Epoch 7: val_loss improved from 0.41568 to 0.39378, saving model to best.h5\n",
      "\n",
      "Epoch 8: val_loss improved from 0.39378 to 0.36490, saving model to best.h5\n",
      "\n",
      "Epoch 9: val_loss did not improve from 0.36490\n",
      "\n",
      "Epoch 10: val_loss did not improve from 0.36490\n",
      "[1.199218511581421, 0.6150553226470947, 0.5068206787109375, 0.4516957402229309, 0.4152461290359497, 0.38572561740875244, 0.36007294058799744, 0.3384416699409485, 0.32217350602149963, 0.30446135997772217]\n",
      "625/625 [==============================] - 3s 4ms/step - loss: 0.2897 - accuracy: 0.9021\n",
      "\n",
      "TRAIN LOSS AND ACCURACY =  [0.2897118031978607, 0.9021499752998352]\n",
      "313/313 [==============================] - 1s 4ms/step - loss: 0.3784 - accuracy: 0.8740\n"
     ]
    }
   ],
   "source": [
    "# Définir le reseau LSTM\n",
    "net = rnn_classif_network(T, D, LSTM, \"LSTM\")\n",
    "cp = ModelCheckpoint(\"best.h5\", verbose=1, save_best_only=True)\n",
    "callback_list = [cp]\n",
    "history = net.fit(x_train, y_train, epochs=10, validation_data=[x_valid, y_valid],\n",
    "                  callbacks=callback_list, verbose=0)\n",
    "print(history.history[\"loss\"])\n",
    "\n",
    "# on teste les performances du réseau entrainé\n",
    "loss_train = net.evaluate(x_train, y_train)\n",
    "print(\"\\nTRAIN LOSS AND ACCURACY = \", loss_train)\n",
    "net.load_weights(\"best.h5\")\n",
    "loss_test = net.evaluate(x_test, y_test)"
   ]
  },
  {
   "cell_type": "code",
   "execution_count": 10,
   "id": "991e02a5",
   "metadata": {},
   "outputs": [
    {
     "name": "stdout",
     "output_type": "stream",
     "text": [
      "20000\n"
     ]
    }
   ],
   "source": [
    "print(len(x_train))"
   ]
  },
  {
   "cell_type": "code",
   "execution_count": 11,
   "id": "4b3f1eb5",
   "metadata": {},
   "outputs": [
    {
     "name": "stdout",
     "output_type": "stream",
     "text": [
      "1000\n"
     ]
    }
   ],
   "source": [
    "print(len(x_valid))"
   ]
  }
 ],
 "metadata": {
  "kernelspec": {
   "display_name": "Python 3 (ipykernel)",
   "language": "python",
   "name": "python3"
  },
  "language_info": {
   "codemirror_mode": {
    "name": "ipython",
    "version": 3
   },
   "file_extension": ".py",
   "mimetype": "text/x-python",
   "name": "python",
   "nbconvert_exporter": "python",
   "pygments_lexer": "ipython3",
   "version": "3.10.11"
  }
 },
 "nbformat": 4,
 "nbformat_minor": 5
}
