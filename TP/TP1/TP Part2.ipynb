{
 "cells": [
  {
   "cell_type": "markdown",
   "id": "a71633a0",
   "metadata": {},
   "source": [
    "## PARTIE 1"
   ]
  },
  {
   "cell_type": "markdown",
   "id": "4763839c",
   "metadata": {},
   "source": [
    "Exercice 1 :\n",
    "\n",
    "Écrivez un programme Python pour supprimer les parenthèses dans une chaîne de caractères."
   ]
  },
  {
   "cell_type": "code",
   "execution_count": 30,
   "id": "5429bdeb",
   "metadata": {},
   "outputs": [
    {
     "data": {
      "text/plain": [
       "'PythonProgLang'"
      ]
     },
     "execution_count": 30,
     "metadata": {},
     "output_type": "execute_result"
    }
   ],
   "source": [
    "chaine = \"Python(Prog)(Lang)\"\n",
    "\n",
    "def remove_parentheses(chaine):\n",
    "    return chaine.replace(\"(\",\"\").replace(\")\",\"\")\n",
    "\n",
    "remove_parentheses(chaine)"
   ]
  },
  {
   "cell_type": "markdown",
   "id": "da301ba1",
   "metadata": {},
   "source": [
    "Exercice 2 :\n",
    "\n",
    "Écrivez un programme Python pour trouver l'occurrence et la position des sous-chaînes dans une chaîne.."
   ]
  },
  {
   "cell_type": "code",
   "execution_count": 29,
   "id": "14ea933c",
   "metadata": {},
   "outputs": [
    {
     "data": {
      "text/plain": [
       "(7, 11)"
      ]
     },
     "execution_count": 29,
     "metadata": {},
     "output_type": "execute_result"
    }
   ],
   "source": [
    "import re\n",
    "\n",
    "chaine = \"Python(Prog)(Lang)Prog\"\n",
    "\n",
    "def occurence(pattern,chaine):\n",
    "    return re.search(pattern,chaine).span()\n",
    "\n",
    "occurence(\"Prog\",chaine)"
   ]
  },
  {
   "cell_type": "markdown",
   "id": "1517ff84",
   "metadata": {},
   "source": [
    "Exercice 3 :\n",
    "\n",
    "Écrivez un programme Python pour rechercher les nombres (0-9) de longueur comprise entre 1 et 3 dans une chaîne donnée."
   ]
  },
  {
   "cell_type": "code",
   "execution_count": 28,
   "id": "48fb8079",
   "metadata": {},
   "outputs": [
    {
     "data": {
      "text/plain": [
       "['1']"
      ]
     },
     "execution_count": 28,
     "metadata": {},
     "output_type": "execute_result"
    }
   ],
   "source": [
    "chaine = \"Exercice 1\"\n",
    "\n",
    "def find_number(chaine):\n",
    "    return re.findall(r'[0-9]{1,3}',chaine)\n",
    "\n",
    "find_number(chaine)"
   ]
  },
  {
   "cell_type": "markdown",
   "id": "126a1042",
   "metadata": {},
   "source": [
    "Exercice 4  :\n",
    "\n",
    "Écrivez un programme Python pour supprimer les zéros non significatifs d'une adresse IP."
   ]
  },
  {
   "cell_type": "code",
   "execution_count": 27,
   "id": "1b32e407",
   "metadata": {},
   "outputs": [
    {
     "data": {
      "text/plain": [
       "'192.168.1.1'"
      ]
     },
     "execution_count": 27,
     "metadata": {},
     "output_type": "execute_result"
    }
   ],
   "source": [
    "chaine = \"192.168.001.001\"\n",
    "\n",
    "def remove_zero(chaine):\n",
    "    return re.sub(r'\\.[0]*', '.', chaine)\n",
    "\n",
    "remove_zero(chaine)"
   ]
  },
  {
   "cell_type": "markdown",
   "id": "bba8153a",
   "metadata": {},
   "source": [
    "Exercice 5  :\n",
    "\n",
    "Écrivez un programme Python pour vérifier un nombre est décimale ou non avec une précision de 3."
   ]
  },
  {
   "cell_type": "code",
   "execution_count": 36,
   "id": "f473cce3",
   "metadata": {},
   "outputs": [
    {
     "name": "stdout",
     "output_type": "stream",
     "text": [
      "False\n"
     ]
    },
    {
     "data": {
      "text/plain": [
       "True"
      ]
     },
     "execution_count": 36,
     "metadata": {},
     "output_type": "execute_result"
    }
   ],
   "source": [
    "chaine1 = \"123.456\"\n",
    "chaine2 = \"123\"\n",
    "\n",
    "def is_number(nombre):\n",
    "    correspondance = re.match(r'^[0-9]+(\\.[0-9]{1,3})?$', str(nombre))\n",
    "\n",
    "    if correspondance:\n",
    "        return True\n",
    "    else:\n",
    "        return False\n",
    "\n",
    "print(is_number(chaine))\n",
    "is_number(chaine2)"
   ]
  },
  {
   "cell_type": "markdown",
   "id": "9d35bd3f",
   "metadata": {},
   "source": [
    "## PARTIE 2"
   ]
  },
  {
   "cell_type": "markdown",
   "id": "f1ea388f",
   "metadata": {},
   "source": [
    "a) Vérifiez si les chaînes données contiennent 0xB0. Affichez un résultat booléen comme indiqué ci-dessous."
   ]
  },
  {
   "cell_type": "code",
   "execution_count": 16,
   "id": "0d8c408c",
   "metadata": {},
   "outputs": [
    {
     "name": "stdout",
     "output_type": "stream",
     "text": [
      "False\n",
      "True\n"
     ]
    }
   ],
   "source": [
    "line1 = 'start address: 0xA0, func1 address: 0xC0'\n",
    "line2 = 'end address: 0xFF, func2 address: 0xB0'\n",
    "\n",
    "print(bool(re.search(r'0xB0', line1)))\n",
    "print(bool(re.search(r'0xB0', line2)))"
   ]
  },
  {
   "cell_type": "markdown",
   "id": "9b4aa5be",
   "metadata": {},
   "source": [
    "b)Remplacer toutes les occurrences de 5 par cinq pour la chaîne donnée"
   ]
  },
  {
   "cell_type": "code",
   "execution_count": 10,
   "id": "b406d2e3",
   "metadata": {},
   "outputs": [
    {
     "name": "stdout",
     "output_type": "stream",
     "text": [
      "They ate cinq apples and cinq oranges\n"
     ]
    }
   ],
   "source": [
    "ip = 'They ate 5 apples and 5 oranges'\n",
    "\n",
    "print(re.sub(r'5', 'cinq', ip))"
   ]
  },
  {
   "cell_type": "markdown",
   "id": "d0e1d375",
   "metadata": {},
   "source": [
    "c) Pour la liste donnée, filtrez tous les éléments qui ne contiennent pas e."
   ]
  },
  {
   "cell_type": "code",
   "execution_count": 17,
   "id": "6a7099c5",
   "metadata": {},
   "outputs": [
    {
     "name": "stdout",
     "output_type": "stream",
     "text": [
      "['goal', 'sit']\n"
     ]
    }
   ],
   "source": [
    "items = ['goal', 'new', 'user', 'sit', 'eat', 'dinner']\n",
    "\n",
    "print(list(filter(lambda x: 'e' not in x, items)))"
   ]
  },
  {
   "cell_type": "markdown",
   "id": "33f2f68a",
   "metadata": {},
   "source": [
    "d) Pour la liste donnée, filtrez tous les éléments qui contiennent à la fois e et n."
   ]
  },
  {
   "cell_type": "code",
   "execution_count": 19,
   "id": "44818110",
   "metadata": {},
   "outputs": [
    {
     "name": "stdout",
     "output_type": "stream",
     "text": [
      "['new', 'dinner']\n"
     ]
    }
   ],
   "source": [
    "items = ['goal', 'new', 'user', 'sit', 'eat', 'dinner']\n",
    "\n",
    "print(list(filter(lambda x: 'e' in x and 'n' in x, items)))"
   ]
  }
 ],
 "metadata": {
  "kernelspec": {
   "display_name": "Python 3 (ipykernel)",
   "language": "python",
   "name": "python3"
  },
  "language_info": {
   "codemirror_mode": {
    "name": "ipython",
    "version": 3
   },
   "file_extension": ".py",
   "mimetype": "text/x-python",
   "name": "python",
   "nbconvert_exporter": "python",
   "pygments_lexer": "ipython3",
   "version": "3.7.16"
  }
 },
 "nbformat": 4,
 "nbformat_minor": 5
}
