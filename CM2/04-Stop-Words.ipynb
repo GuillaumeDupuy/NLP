{
 "cells": [
  {
   "cell_type": "markdown",
   "metadata": {},
   "source": [
    "# Stop Words\n",
    "Des mots comme \"a\" et \"the\" apparaissent si fréquemment qu'ils ne nécessitent pas un balisage aussi complet que les noms, les verbes et les modificateurs. Nous les appelons *stop words*, et ils peuvent être filtrés du texte à traiter. spaCy contient une liste intégrée de quelque 305 stop words anglais."
   ]
  },
  {
   "cell_type": "code",
   "execution_count": 1,
   "metadata": {},
   "outputs": [],
   "source": [
    "# Perform standard imports:\n",
    "import spacy\n",
    "nlp = spacy.load('en_core_web_sm')"
   ]
  },
  {
   "cell_type": "code",
   "execution_count": 2,
   "metadata": {},
   "outputs": [
    {
     "name": "stdout",
     "output_type": "stream",
     "text": [
      "{'six', 'empty', 'had', 'amount', 'because', 'of', 'itself', 'anyhow', 'towards', 'every', 'i', 'top', 'yet', 'put', 'behind', 'part', 'except', 'those', 'can', 'thereafter', 'mine', 'yourselves', 'our', 'front', 'n’t', 'some', 'a', 'be', 're', 'thereupon', 'least', 'than', 'across', 'something', 'around', 'may', 'that', 'always', 'between', 'thence', '‘re', 'unless', 'nevertheless', 'below', 'make', 'much', 'call', 'there', 'beside', 'therefore', 'its', 'move', 'other', 'under', 'whereafter', 'still', 'show', 'last', 'also', 'neither', 'someone', 'whenever', 'along', 'these', 'sometimes', \"'ll\", \"'ve\", 'onto', 'at', 'cannot', '’re', 'twelve', '’m', 'either', 'already', 'which', 'whence', 'everyone', 'hereby', 'side', 'we', 'bottom', 'due', 'yourself', 'they', 'n‘t', 'each', 'among', 'fifty', 'anyway', 'when', 'whither', 'about', 'fifteen', 'ever', \"'re\", 'him', 'both', 'down', 'becomes', '’s', 'hereafter', 'others', 'once', 'everything', 'during', 'nine', 'themselves', 'with', 'just', 'several', 'forty', 'must', 'this', '‘m', 'why', 'whoever', 'whereas', 'could', 'thereby', 'upon', 'whether', 'whole', 'many', 'toward', 'myself', 'no', 'via', 'he', 'namely', 'or', 'herself', 'serious', 'will', 'amongst', 'hundred', 'beyond', 'full', 'being', 'back', 'regarding', 'go', 'whose', 'less', 'through', 'seemed', 'off', 'over', 'again', 'against', 'it', 'was', 'himself', 'nobody', 'however', 'none', 'after', 'before', 'everywhere', 'within', '’ll', 'ten', 'am', 'almost', 'my', 'the', 'two', 'throughout', 'often', 'quite', 'above', 'all', 'thus', 'first', 'without', 'moreover', 'from', 'to', 'until', 'whereby', 'wherein', 'are', 'afterwards', 'else', 'might', 'so', 'various', 'too', 'doing', 'more', 'another', 'into', 'in', 'therein', 'any', 'own', 'not', 'anyone', 'well', 'hers', 'indeed', 'take', 'even', 'alone', 'anything', 'five', 'whereupon', 'elsewhere', 'noone', 'next', 'became', 'beforehand', 'sixty', 'ca', 'then', '‘ve', 'four', 'only', 'three', 'latter', 'his', 'besides', 'herein', 'anywhere', 'if', 'very', 'us', 'her', 'thru', 'has', 'sometime', 'whatever', 'been', 'eight', 'together', 'nor', 'nowhere', \"'s\", 'you', 'somehow', 'say', 'mostly', 'nothing', 'further', 'whom', 'eleven', 'since', '’ve', 'and', \"'d\", '‘s', \"'m\", 'although', 'become', 'otherwise', 'would', 'she', 'is', 'former', 'perhaps', 'them', 'an', 'as', 'latterly', 'hereupon', 'your', 'third', 'do', 'few', 'per', 'now', 'never', 'up', 'becoming', 'somewhere', 'most', 'keep', 'have', 'should', 'give', 'formerly', 'using', '‘d', 'one', 'on', 'ourselves', 'really', \"n't\", 'twenty', 'for', 'used', 'see', 'same', 'name', 'what', 'get', 'their', '‘ll', 'me', 'though', 'where', 'does', 'while', 'meanwhile', 'seems', 'done', 'rather', 'please', 'but', 'hence', 'such', 'enough', 'who', 'ours', 'out', 'were', 'did', 'made', 'by', 'seeming', '’d', 'how', 'seem', 'yours', 'wherever', 'here'}\n"
     ]
    }
   ],
   "source": [
    "# Print the set of spaCy's default stop words (remember that sets are unordered):\n",
    "print(nlp.Defaults.stop_words)"
   ]
  },
  {
   "cell_type": "code",
   "execution_count": 3,
   "metadata": {},
   "outputs": [
    {
     "data": {
      "text/plain": [
       "326"
      ]
     },
     "execution_count": 3,
     "metadata": {},
     "output_type": "execute_result"
    }
   ],
   "source": [
    "len(nlp.Defaults.stop_words)"
   ]
  },
  {
   "cell_type": "markdown",
   "metadata": {},
   "source": [
    "## Voir si un mot est un stop word"
   ]
  },
  {
   "cell_type": "code",
   "execution_count": 4,
   "metadata": {},
   "outputs": [
    {
     "data": {
      "text/plain": [
       "True"
      ]
     },
     "execution_count": 4,
     "metadata": {},
     "output_type": "execute_result"
    }
   ],
   "source": [
    "nlp.vocab['myself'].is_stop"
   ]
  },
  {
   "cell_type": "code",
   "execution_count": 5,
   "metadata": {},
   "outputs": [
    {
     "data": {
      "text/plain": [
       "False"
      ]
     },
     "execution_count": 5,
     "metadata": {},
     "output_type": "execute_result"
    }
   ],
   "source": [
    "nlp.vocab['mystery'].is_stop"
   ]
  },
  {
   "cell_type": "markdown",
   "metadata": {},
   "source": [
    "## To add a stop word\n",
    "Il peut arriver que vous souhaitiez ajouter un stop word à l'ensemble par défaut. Vous pouvez par exemple décider que `'btw'` (abréviation courante de \"by the way\") doit être considéré comme un stop word."
   ]
  },
  {
   "cell_type": "code",
   "execution_count": 6,
   "metadata": {},
   "outputs": [],
   "source": [
    "# Add the word to the set of stop words. Use lowercase!\n",
    "nlp.Defaults.stop_words.add('btw')\n",
    "\n",
    "# Set the stop_word tag on the lexeme\n",
    "nlp.vocab['btw'].is_stop = True"
   ]
  },
  {
   "cell_type": "code",
   "execution_count": 7,
   "metadata": {},
   "outputs": [
    {
     "data": {
      "text/plain": [
       "327"
      ]
     },
     "execution_count": 7,
     "metadata": {},
     "output_type": "execute_result"
    }
   ],
   "source": [
    "len(nlp.Defaults.stop_words)"
   ]
  },
  {
   "cell_type": "code",
   "execution_count": 8,
   "metadata": {},
   "outputs": [
    {
     "data": {
      "text/plain": [
       "True"
      ]
     },
     "execution_count": 8,
     "metadata": {},
     "output_type": "execute_result"
    }
   ],
   "source": [
    "nlp.vocab['btw'].is_stop"
   ]
  },
  {
   "cell_type": "markdown",
   "metadata": {},
   "source": [
    "<font color=green>Lorsque vous ajoutez des mots vides, utilisez toujours des minuscules. Les lexèmes sont convertis en minuscules avant d'être ajoutés à **vocab**.</font>"
   ]
  },
  {
   "cell_type": "markdown",
   "metadata": {},
   "source": [
    "## Pour supprimer un stop word\n",
    "Vous pouvez également décider que `'beyond'` ne doit pas être considéré comme un mot d'arrêt."
   ]
  },
  {
   "cell_type": "code",
   "execution_count": 9,
   "metadata": {},
   "outputs": [],
   "source": [
    "# Remove the word from the set of stop words\n",
    "nlp.Defaults.stop_words.remove('beyond')\n",
    "\n",
    "# Remove the stop_word tag from the lexeme\n",
    "nlp.vocab['beyond'].is_stop = False"
   ]
  },
  {
   "cell_type": "code",
   "execution_count": 10,
   "metadata": {},
   "outputs": [
    {
     "data": {
      "text/plain": [
       "326"
      ]
     },
     "execution_count": 10,
     "metadata": {},
     "output_type": "execute_result"
    }
   ],
   "source": [
    "len(nlp.Defaults.stop_words)"
   ]
  },
  {
   "cell_type": "code",
   "execution_count": 11,
   "metadata": {},
   "outputs": [
    {
     "data": {
      "text/plain": [
       "False"
      ]
     },
     "execution_count": 11,
     "metadata": {},
     "output_type": "execute_result"
    }
   ],
   "source": [
    "nlp.vocab['beyond'].is_stop"
   ]
  },
  {
   "cell_type": "markdown",
   "metadata": {},
   "source": [
    "C'est très bien ! Vous devriez maintenant être en mesure d'accéder à l'ensemble des mots-arrêts par défaut de spaCy, et d'ajouter ou de supprimer des mots-arrêts si nécessaire.\n",
    "## Suivant : Vocabulary and Matching"
   ]
  },
  {
   "cell_type": "code",
   "execution_count": null,
   "metadata": {},
   "outputs": [],
   "source": []
  }
 ],
 "metadata": {
  "kernelspec": {
   "display_name": "Python 3 (ipykernel)",
   "language": "python",
   "name": "python3"
  },
  "language_info": {
   "codemirror_mode": {
    "name": "ipython",
    "version": 3
   },
   "file_extension": ".py",
   "mimetype": "text/x-python",
   "name": "python",
   "nbconvert_exporter": "python",
   "pygments_lexer": "ipython3",
   "version": "3.7.16"
  }
 },
 "nbformat": 4,
 "nbformat_minor": 2
}
